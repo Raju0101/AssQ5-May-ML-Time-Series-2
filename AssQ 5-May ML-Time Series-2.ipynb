{
 "cells": [
  {
   "cell_type": "markdown",
   "id": "89f190ca-561d-4c1d-ba43-0bc6a137897d",
   "metadata": {},
   "source": [
    "# AssQ 5-May ML-Time Series-2"
   ]
  },
  {
   "cell_type": "code",
   "execution_count": null,
   "id": "8f85aedb-82ef-459a-bb7e-f41607c39c69",
   "metadata": {},
   "outputs": [],
   "source": [
    "Q1. What is meant by time-dependent seasonal components?"
   ]
  },
  {
   "cell_type": "code",
   "execution_count": null,
   "id": "79b30651-5b29-4e51-b4d1-d83e5bf6be64",
   "metadata": {},
   "outputs": [],
   "source": [
    "A seasonal effect is a systematic and calendar related effect. Some examples include \n",
    "the sharp escalation in most Retail series which occurs around December in response to the Christmas period, \n",
    "or an increase in water consumption in summer due to warmer weather.\n",
    "\n",
    "Hourly data usually has three types of seasonality: a daily pattern, a weekly pattern, \n",
    "and an annual pattern. Even weekly data can be challenging to forecast as it typically has an annual pattern \n",
    "with seasonal period of 365.25/7≈52.179 365.25 / 7 ≈ 52.179 on average.\n",
    "\n",
    "Seasonality occurs when time series data exhibits regular and predictable patterns \n",
    "at time intervals that are smaller than a year. An example of a time series with seasonality is retail sales,\n",
    "which often increase between September to December and will decrease between January and February"
   ]
  },
  {
   "cell_type": "code",
   "execution_count": null,
   "id": "a2ffa564-d674-4684-9116-0f5c1c8e5de1",
   "metadata": {},
   "outputs": [],
   "source": []
  },
  {
   "cell_type": "code",
   "execution_count": null,
   "id": "6de0cf42-14e9-4426-80b4-dcbe42da37cb",
   "metadata": {},
   "outputs": [],
   "source": [
    "Q2. How can time-dependent seasonal components be identified in time series data?"
   ]
  },
  {
   "cell_type": "code",
   "execution_count": null,
   "id": "a72ae9a1-5f6e-4741-9b88-f0e80f365b23",
   "metadata": {},
   "outputs": [],
   "source": [
    "We can use the ACF to determine if seasonality is present in a time series.\n",
    "For example, Yt = γ · St + ϵt. The larger the amplitude of seasonal fluctuations,\n",
    "the more pronounced the oscillations are in the ACF.\n",
    "\n",
    "To calculate the seasonal variation, go back to the table and for each average calculated, \n",
    "compare the average to the actual sales figure for that period.\n",
    "A negative variation means that the actual figure in that period is \n",
    "less than the trend and a positive figure means that the actual is more than the trend.\n",
    "\n",
    "There are several ways to identify seasonal cycles in time series data. \n",
    "First, if the seasonal pattern is very clear, you may be able to detect it in a \n",
    "plot of the time series (time = t on the X-axis; X at time t on the Y-axis). \n",
    "Second, you can obtain a lagged autocorrelation function.\n",
    "\n",
    "Such change in annual operating days is also called Seasonal Variation. \n",
    "Another example is here. The influenza season is winter, especially in\n",
    "January and February, which matches the time \n",
    "when the sales of medicines increases, meaning it usually surges in this period."
   ]
  },
  {
   "cell_type": "code",
   "execution_count": null,
   "id": "ec7f1ef8-3254-47f3-9733-f0d991167a0f",
   "metadata": {},
   "outputs": [],
   "source": []
  },
  {
   "cell_type": "code",
   "execution_count": null,
   "id": "d1776842-5b50-42f1-b710-cebe65cd7156",
   "metadata": {},
   "outputs": [],
   "source": [
    "Q3. What are the factors that can influence time-dependent seasonal components?"
   ]
  },
  {
   "cell_type": "code",
   "execution_count": null,
   "id": "7318dbbb-dceb-4709-b491-f08341a805c6",
   "metadata": {},
   "outputs": [],
   "source": [
    "There are numerous factors to consider when interpreting a time series, \n",
    "such as autocorrelation patterns, seasonality, and stationarity. As a result,\n",
    "a number of models may be employed to help describe time series,\n",
    "including moving averages and exponential smoothing models.\n",
    "\n",
    "These variations may be due to seasons, weather conditions, habits, customs or traditions.\n",
    "For example, in summers the sale of ice-cream increases\n",
    "and at the time of Diwali the sale of diyas, crackers, etc. go up.\n",
    "\n",
    "An observed time series can be decomposed into three components: \n",
    "    the trend (long term direction), the seasonal (systematic, calendar related movements)\n",
    "and the irregular (unsystematic, short term fluctuations).\n",
    "\n",
    "Its components are the secular trend, seasonal trend, cyclical variations, and irregular variations."
   ]
  },
  {
   "cell_type": "code",
   "execution_count": null,
   "id": "07ac3b36-700c-4e9f-9899-dc3174527cd9",
   "metadata": {},
   "outputs": [],
   "source": []
  },
  {
   "cell_type": "code",
   "execution_count": null,
   "id": "dd2a5aed-610a-47e8-b006-310579d0c872",
   "metadata": {},
   "outputs": [],
   "source": [
    "Q4. How are autoregression models used in time series analysis and forecasting?"
   ]
  },
  {
   "cell_type": "code",
   "execution_count": null,
   "id": "873f9203-ce16-4a8e-a753-65dafe13cd3b",
   "metadata": {},
   "outputs": [],
   "source": [
    "Autoregression is a time series model that uses observations from previous time steps\n",
    "as input to a regression equation to predict the value at the next time step. \n",
    "It is a very simple idea that can result in accurate forecasts on a range of time series problems.\n",
    "\n",
    "Autoregressive models predict future values based on past values. \n",
    "They are widely used in technical analysis to forecast future security prices. \n",
    "Autoregressive models implicitly assume that the future will resemble the past.\n",
    "\n",
    "The term autoregression indicates that it is a regression of the variable against itself.\n",
    "Thus, an autoregressive model of order p can be written as yt=c+ϕ1yt−1+ϕ2yt−2+⋯+ϕpyt−p+εt,\n",
    "y t = c + ϕ 1 y t − 1 + ϕ 2 y t − 2 + ⋯ + ϕ p y t − p + ε t , where εt is white noise.\n",
    "\n",
    "It is called “autoregressive” because Y[n] regresses on itself, which means that the value of Y[n] can be written as \n",
    "a linear function of its own past p values rather than the past values of the input random process."
   ]
  },
  {
   "cell_type": "code",
   "execution_count": null,
   "id": "a7669cfb-4099-4e50-835f-41c3810ec113",
   "metadata": {},
   "outputs": [],
   "source": []
  },
  {
   "cell_type": "code",
   "execution_count": null,
   "id": "e2d1df6a-f7ef-4e0c-a727-d57c84940b7f",
   "metadata": {},
   "outputs": [],
   "source": [
    "Q5. How do you use autoregression models to make predictions for future time points?"
   ]
  },
  {
   "cell_type": "code",
   "execution_count": null,
   "id": "9e432180-05d2-40d9-9ca5-4c174197cb92",
   "metadata": {},
   "outputs": [],
   "source": [
    "What is an autoregressive model? An autoregressive (AR) model forecasts future behavior \n",
    "based on past behavior data. This type of analysis is used when there is a correlation \n",
    "between the time series values and their preceding and succeeding values. \n",
    "Autoregressive modeling uses only past data to predict future behavior.\n",
    "\n",
    "An autoregressive model is a time-series model that describes how a particular variable's \n",
    "past values influence its current value. In other words, an AR model attempts to predict the next value in a series by\n",
    "incorporating the most recent past values and using them as input data.\n",
    "\n",
    "Autoregressive models predict future values based on past values. \n",
    "They are widely used in technical analysis to forecast future security prices. \n",
    "Autoregressive models implicitly assume that the future will resemble the past."
   ]
  },
  {
   "cell_type": "code",
   "execution_count": null,
   "id": "d0ca79b9-5a2b-4397-b1ba-951145d51522",
   "metadata": {},
   "outputs": [],
   "source": []
  },
  {
   "cell_type": "code",
   "execution_count": null,
   "id": "00c29568-61be-43df-8856-ad2846824681",
   "metadata": {},
   "outputs": [],
   "source": [
    "Q6. What is a moving average (MA) model and how does it differ from other time series models?"
   ]
  },
  {
   "cell_type": "code",
   "execution_count": null,
   "id": "b36e6248-ff47-4a69-a1a2-7b8e706dbeaf",
   "metadata": {},
   "outputs": [],
   "source": [
    "In time series analysis, the moving-average model (MA model), also known as moving-average process,\n",
    "is a common approach for modeling univariate time series.\n",
    "The moving-average model specifies that the output variable is cross-correlated\n",
    "with a non-identical to itself random-variable.\n",
    "\n",
    "A moving average model is used for forecasting future values, \n",
    "while moving average smoothing is used for estimating the trend-cycle of past values.\n",
    "\n",
    "Whereas in Moving Averages the past observations are weighted equally,\n",
    "Exponential Smoothing assigns exponentially decreasing weights as the observation get older.\n",
    "In other words, recent observations are given relatively more weight\n",
    "in forecasting than the older observations.\n",
    "\n",
    "This means that the moving average(MA) model does not uses the past forecasts to\n",
    "predict the future values whereas it uses the errors from the past forecasts.\n",
    "While, the autoregressive model(AR) uses the past forecasts to predict future values."
   ]
  },
  {
   "cell_type": "code",
   "execution_count": null,
   "id": "78d4416a-2fb3-434a-8921-1ef3fb532f44",
   "metadata": {},
   "outputs": [],
   "source": []
  },
  {
   "cell_type": "code",
   "execution_count": null,
   "id": "03266adc-f181-4944-a51c-c470a6d03afd",
   "metadata": {},
   "outputs": [],
   "source": [
    "Q7. What is a mixed ARMA model and how does it differ from an AR or MA model?"
   ]
  },
  {
   "cell_type": "code",
   "execution_count": null,
   "id": "606aacb9-be11-4708-80f8-643aa2d60395",
   "metadata": {},
   "outputs": [],
   "source": [
    "ARIMA combines autoregressive features with those of moving averages. \n",
    "An AR(1) autoregressive process, for instance, is one in which the current\n",
    "value is based on the immediately preceding value, \n",
    "while an AR(2) process is one in which the current value is based on the previous two values.\n",
    "\n",
    "The primary difference between an AR and MA model is based on the correlation between\n",
    "time series objects at different time points. The covariance between x(t) and x(t-n) is zero for MA models. However, \n",
    "the correlation of x(t) and x(t-n) gradually declines with n becoming larger in the AR model.\n",
    "\n",
    "The “AR” in ARIMA stands for autoregression, indicating that the model \n",
    "uses the dependent relationship between current data and its past values. \n",
    "In other words, it shows that the data is regressed on its past values.\n",
    "The “I” stands for integrated, which means that the data is stationary.\n",
    "\n",
    "The autoregression and moving average (ARMA) models are used in time series \n",
    "analysis to describe stationary time series . These models represent time series that\n",
    "are generated by passing white noise through a \n",
    "recursive and through a nonrecursive linear filter , consecutively ."
   ]
  },
  {
   "cell_type": "code",
   "execution_count": null,
   "id": "ee549028-7594-4179-9742-4c5b15b22f68",
   "metadata": {},
   "outputs": [],
   "source": [
    ".............................The End.........................."
   ]
  }
 ],
 "metadata": {
  "kernelspec": {
   "display_name": "Python 3 (ipykernel)",
   "language": "python",
   "name": "python3"
  },
  "language_info": {
   "codemirror_mode": {
    "name": "ipython",
    "version": 3
   },
   "file_extension": ".py",
   "mimetype": "text/x-python",
   "name": "python",
   "nbconvert_exporter": "python",
   "pygments_lexer": "ipython3",
   "version": "3.10.6"
  }
 },
 "nbformat": 4,
 "nbformat_minor": 5
}
